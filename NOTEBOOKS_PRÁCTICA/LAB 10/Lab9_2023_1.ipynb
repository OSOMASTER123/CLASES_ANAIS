{
  "nbformat": 4,
  "nbformat_minor": 0,
  "metadata": {
    "colab": {
      "provenance": []
    },
    "kernelspec": {
      "name": "python3",
      "display_name": "Python 3"
    },
    "language_info": {
      "name": "python"
    }
  },
  "cells": [
    {
      "cell_type": "markdown",
      "source": [
        "# 1ING09-Digital Signal Processing\n",
        "# Laboratory 9 Part II\n",
        "### Nombre:\n",
        "### Código:"
      ],
      "metadata": {
        "id": "Ky9wOi7ljvNr"
      }
    },
    {
      "cell_type": "code",
      "source": [
        "import numpy as np\n",
        "\n",
        "def my_lms_iter(x, d, delta, M, iterations):\n",
        "    # Initialization\n",
        "    w = np.zeros(M)\n",
        "\n",
        "    for n in range(iterations):\n",
        "        xx = x[n:M+n]\n",
        "        dd = d[n]\n",
        "\n",
        "        y = np.dot(w, xx)\n",
        "        e = dd - y\n",
        "        w = w + delta * e * xx\n",
        "\n",
        "    return w, y"
      ],
      "metadata": {
        "id": "db5lJl3QnLXz"
      },
      "execution_count": 1,
      "outputs": []
    },
    {
      "cell_type": "markdown",
      "source": [
        "## Question 1 (7p)\n",
        "You have an ECG signal corrupted with AWGN and a harmonic perturbation. Since it is not possible to  reacquire the data, it becomes necessary to filter the signal. In this  scenario, we assume that the original ECG signal is known, which allows  us to easily obtain its autocorrelation (although this assumption may  not hold in practice)."
      ],
      "metadata": {
        "id": "LIAJqQORj0c_"
      }
    },
    {
      "cell_type": "markdown",
      "source": [
        "a) (1p) Load “ECG Data.mat” and plot the signal “ecg corrupted” and ”ecg” in the time domain. Then, compute the Fourier transform of the signals and display their magnitude spectrum"
      ],
      "metadata": {
        "id": "xtKOQf_ij3pR"
      }
    },
    {
      "cell_type": "code",
      "source": [],
      "metadata": {
        "id": "Gh9Zuv-Tj-2Z"
      },
      "execution_count": 1,
      "outputs": []
    },
    {
      "cell_type": "markdown",
      "source": [
        "b) (2p) The solution is based on a FIR (order n=150 with a Hamming window) and a Wiener Filter (order to determine).  First identify and eliminate the perturbation. Display the impulse response of the FIR filter and the signal before and after applying it. Display in the time (s) and frequency domain (Hz)."
      ],
      "metadata": {
        "id": "-X16AVJLj9Jx"
      }
    },
    {
      "cell_type": "code",
      "source": [],
      "metadata": {
        "id": "A2zuR4cYjz3f"
      },
      "execution_count": 1,
      "outputs": []
    },
    {
      "cell_type": "markdown",
      "source": [
        "c) (2.5p) Propose and implement a Wiener filter for the ECG signal without perturbation. Iterate the filter using orders of n = 2, 7, 14, 30, 80 in a loop. Plot the filtered signals in both the time (s) and frequency domain (Hz), and include the 'ideal' ECG signal provided for comparison in the time domain. Comment on the plots.\n",
        "(**Recommendation**: For the plot, rescale the final filtered ECG and original ECG signals to 1-10, consider only 5 seconds and the spectrum from -200Hz to 200Hz)"
      ],
      "metadata": {
        "id": "HRnI83V5j_UR"
      }
    },
    {
      "cell_type": "code",
      "source": [
        "\n"
      ],
      "metadata": {
        "id": "zS_yrPm-kSVZ"
      },
      "execution_count": 1,
      "outputs": []
    },
    {
      "cell_type": "markdown",
      "source": [
        "d) (1.5p) Plot the relative error according vs the order of the filter (**Hint**: Use the function norm()). Comment if notice any tendency and justify your answer. Consider the ECG in the same range (rescale them 1-10) for the calculation. For this case is it optimal a high order Wiener filter?"
      ],
      "metadata": {
        "id": "UgfgzRgekUDO"
      }
    },
    {
      "cell_type": "code",
      "source": [],
      "metadata": {
        "id": "KdHWLz9Ukj84"
      },
      "execution_count": 1,
      "outputs": []
    },
    {
      "cell_type": "markdown",
      "source": [
        "## Question 2 (8p)\n",
        "Consider the system configuration shown in Figure '**NarrowWide_Band**'. The input sequence v(n) is the sum of a wideband signal sequence w(n) and a narrowband interference sequence x(n). The sequence w(n) is a white Gaussian noise sequence with variance σ=1. The narrowband interference sequence consists of a sum of sinusoids and is expressed as:\n",
        "\n",
        "## $x(n) =A \\sum_{i=0}^{100} cos(2\\pi\\ f_i\\ n + \\theta_i)$\n",
        "## where $f_i = \\frac{0.1i}{100}$,  $\\theta_i \\sim \\mathcal{U}(0, \\pi)$ with  $i = 0,1,...100$ and the amplitude $A=1$."
      ],
      "metadata": {
        "id": "ikTe-9uJkkVX"
      }
    },
    {
      "cell_type": "markdown",
      "source": [
        "a) (2p) Generate the narrow band sequence x(n) with 2000 samples, plot in samples and in frequency in $\\pi$ units (normalized frequency domain). Determine the bandwith."
      ],
      "metadata": {
        "id": "FNvV6panknFA"
      }
    },
    {
      "cell_type": "code",
      "source": [],
      "metadata": {
        "id": "zjYAg-aTlo5K"
      },
      "execution_count": 1,
      "outputs": []
    },
    {
      "cell_type": "markdown",
      "source": [
        "b) (2p) Generate the wideband signal sequence $w(n) \\sim \\mathcal{N}(0, \\sigma_w)$ with $\\sigma_w = 1$. Given a delay of D=1, implement the linear predictor FIR with M=15 samples\n",
        "Given M = 15 and D = 1, solve the following equation. Identify to what kind of filter it corresponds\n",
        "#$\\sum_{k=0}^{M-1} h(k) \\ r_{vv}(l-k) = r_{vv}(l+D)$"
      ],
      "metadata": {
        "id": "0NUwbcUllpUH"
      }
    },
    {
      "cell_type": "code",
      "source": [],
      "metadata": {
        "id": "0G2Asqgel2Xa"
      },
      "execution_count": 1,
      "outputs": []
    },
    {
      "cell_type": "markdown",
      "source": [
        "c) (2p) Considering the overall filter structure can be summarized in \\\\\n",
        "\n",
        "$g(k) =\n",
        "\\begin{cases}\n",
        "    1, & \\text{if } k = 0 \\\\\n",
        "    -h(k-D), & \\text{if } k = D, D+1, \\ldots, D+M-1 \\\\\n",
        "    0, & \\text{otherwise}\n",
        "\\end{cases}$ \\\\\n",
        "Obtain the predictor $g(k)$ error coefficients and its magnitude spectrum in dB, plot the frequency in $\\pi$ units (normalized frequency domain). What kind of filter is it?"
      ],
      "metadata": {
        "id": "6GUyFY_Ml2uT"
      }
    },
    {
      "cell_type": "code",
      "source": [],
      "metadata": {
        "id": "F6zB78v4m5YZ"
      },
      "execution_count": 1,
      "outputs": []
    },
    {
      "cell_type": "markdown",
      "source": [
        "d) Consider the system configuration shown in the block diagram  **'AdaptiveFilter'** for the suppression of narrowband interference. Using  the same system parameters, apply the LMS function to adapt the coefficients of the linear predictor (Hint: use $\\Delta = 0.001$ ). Obtained the generalized filter structure as in part c). Plot the its magnitude spectrum in $\\pi$ units (normalized frequency domain). Do you get the same results? Which system has better performance? What impact has $\\Delta$  in the filter ? When the LMS adaptive filter is appropiate?"
      ],
      "metadata": {
        "id": "LZjpLL5Vm4zY"
      }
    },
    {
      "cell_type": "code",
      "source": [
        "####### EXECUTE THIS #######\n",
        "delta = 1e-3 # can be changed\n",
        "iter = 600 # can be changed\n",
        "delay_vn = np.concatenate((np.zeros(D), vn[:-D]))\n",
        "d = wn\n",
        "h_lms, xhatn_lms = my_lms_iter(delay_vn, d, delta, M, iter)\n",
        "####### EXECUTE THIS #######\n",
        "\n"
      ],
      "metadata": {
        "id": "2u5RISmSm7H5"
      },
      "execution_count": null,
      "outputs": []
    }
  ]
}