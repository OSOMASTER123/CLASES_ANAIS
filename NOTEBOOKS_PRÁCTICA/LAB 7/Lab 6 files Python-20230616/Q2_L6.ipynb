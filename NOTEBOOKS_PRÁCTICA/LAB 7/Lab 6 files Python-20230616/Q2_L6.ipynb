{
 "cells": [
  {
   "cell_type": "markdown",
   "metadata": {},
   "source": [
    "# Part 2"
   ]
  },
  {
   "cell_type": "markdown",
   "metadata": {},
   "source": [
    "## Question 1\n",
    "\n",
    "You are provided with the signals **lp[n]** and **hp[n]** which are stored in the files **lp.mat** and **hp.mat**, respectively. \n",
    "\n",
    "Considering the following signal:\n",
    "\n",
    "$$x\\left(t\\right)=\\sin \\left(2\\pi f_1 t\\right)+3\\cos \\left(2{\\pi \\;f}_2 t\\right)-0\\ldotp 5\\sin \\left(2{\\pi \\;f}_3 t\\right)$$\n",
    "\n",
    "\n",
    "The values of the frequencies are the following:\n",
    "\n",
    "$$\\begin{array}{l}\n",
    "f_1 =200\\textrm{Hz}\\\\\n",
    "f_2 =1\\ldotp 5f_1 \\textrm{Hz}\\\\\n",
    "f_3 =2\\ldotp 5f_1 \\textrm{Hz}\n",
    "\\end{array}$$\n",
    "\n",
    "1)Convert x(t) into a discrete signal by using a frequency sample (Fs) equals to 4 times the minimum frequency to avoid aliasing (Nyquist criteria). Plot the discrete signal and its magnitude spectrum in Hz. Consider a duration of 1 second. (0.5pts)\n",
    "\n"
   ]
  },
  {
   "cell_type": "code",
   "execution_count": null,
   "metadata": {},
   "outputs": [],
   "source": []
  },
  {
   "cell_type": "markdown",
   "metadata": {},
   "source": [
    "2-Plot the magnitude spectrums of $lp[n]$ and $hp[n]$ in fundamental range. What kind of signals are? (0.5 pts)\n"
   ]
  },
  {
   "cell_type": "code",
   "execution_count": null,
   "metadata": {},
   "outputs": [],
   "source": []
  },
  {
   "cell_type": "markdown",
   "metadata": {},
   "source": [
    "3-Now You are asked to preserve only the frequency of the cosine.For this you can only use lp[n] and hp[n]. Use **decimate()** and **interpolate** in lp[n] and hp2(respectively) by a factor of 2 and plot the new magnitude spectra of both procedures. Compare and provide an answer of what’s the difference between the 2 procedures? which one do you recommend for the requested ? Justify. **(1.5 pts)**\n"
   ]
  },
  {
   "cell_type": "code",
   "execution_count": null,
   "metadata": {},
   "outputs": [],
   "source": []
  },
  {
   "cell_type": "markdown",
   "metadata": {},
   "source": [
    "4- Use convolution of lp[n]and hp[n] to  to create a new filter and use it. Plot the magnitude spectrum of the filter and  the signal filtered.Plot to the original and the filtered signal **(1pts)**\n"
   ]
  },
  {
   "cell_type": "code",
   "execution_count": null,
   "metadata": {},
   "outputs": [],
   "source": []
  },
  {
   "cell_type": "markdown",
   "metadata": {},
   "source": [
    "## Question 2\n",
    "\n",
    "In data.mat contains an ECG signal, wich  unfortunately this signal is corrupted by different noises and it's  imposible  to record again.Your have to identify which noises affect the raw signal and propose a form to obtain a clean version.\n",
    "\n",
    "1-Load \"data.mat\"  and plot the signal in the time domain. which is the sampling frequency and  how  many seconds have the signal ? **(1pts)**\n"
   ]
  },
  {
   "cell_type": "code",
   "execution_count": null,
   "metadata": {},
   "outputs": [],
   "source": []
  },
  {
   "cell_type": "markdown",
   "metadata": {},
   "source": [
    "2-Compute the Fourier transform of the signal and display its magnitude and phase spectrum. **(1pts)**\n"
   ]
  },
  {
   "cell_type": "code",
   "execution_count": null,
   "metadata": {},
   "outputs": [],
   "source": []
  },
  {
   "cell_type": "markdown",
   "metadata": {},
   "source": [
    "\n",
    "3-  Based on your last results,  identify  the type of noises  are included  comparing with  the Figure 1. Explain the frequencys and the characteristic of the noises.**(2pts)**\n",
    "\n",
    "![figure](https://github.com/piero-latorre/DSP/blob/main/Q2_L6_solved_images/image_0.png?raw=true)\n",
    "\n",
    "Figure 1: (Left) ECG signal in the time domain and (Right) magnitude spectrum of the signal\n",
    "\n"
   ]
  },
  {
   "cell_type": "code",
   "execution_count": null,
   "metadata": {},
   "outputs": [],
   "source": [
    "# comments\n"
   ]
  },
  {
   "cell_type": "markdown",
   "metadata": {},
   "source": [
    "\n",
    "4-Implement  rectangular, hamming and blackman window filter, plot for each one their magnitude and their phase.**(1pt)**\n",
    "\n",
    "Note:Implement all three with a cut-off frequency of 0.4 rad (130 hz) and with a band transition of 1.1 rad. Print  M value  for each filter. \n",
    "\n",
    "Hint: Plot the 3 filters on the same graphic in Hz.\n"
   ]
  },
  {
   "cell_type": "code",
   "execution_count": 1,
   "metadata": {
    "tags": []
   },
   "outputs": [],
   "source": [
    "#comments and code\n"
   ]
  },
  {
   "cell_type": "markdown",
   "metadata": {},
   "source": [
    "\n",
    "5- Filter the signal with all 3, plot the signal ,the magnitude and the phase. Which of those three had the greatest effect and why? Select one of them **(2pts)**"
   ]
  },
  {
   "cell_type": "code",
   "execution_count": null,
   "metadata": {},
   "outputs": [],
   "source": []
  },
  {
   "cell_type": "markdown",
   "metadata": {},
   "source": [
    "\n",
    "6- Based on the above note, why the other 2 filters were not adequate compared to the chosen one? **(1.pts)**\n"
   ]
  },
  {
   "cell_type": "code",
   "execution_count": null,
   "metadata": {},
   "outputs": [],
   "source": [
    "\n"
   ]
  },
  {
   "cell_type": "markdown",
   "metadata": {},
   "source": [
    "\n",
    "\n",
    "7- Plot the signal  you filtered, was it enough?Why? What other type of filter would you need to implement if it was necessary? **(1pts)**\n"
   ]
  },
  {
   "cell_type": "code",
   "execution_count": null,
   "metadata": {},
   "outputs": [],
   "source": []
  },
  {
   "cell_type": "markdown",
   "metadata": {},
   "source": [
    "\n",
    "\n",
    "8-  Implement a filter to obtain a clean signal, you can \\textbf{replace or add} to the first filter.Explain your decision.**Delimit filter requirements (wc,wp,ws)** and explain the window selection used.**(2.5pts)**\n"
   ]
  },
  {
   "cell_type": "code",
   "execution_count": null,
   "metadata": {},
   "outputs": [],
   "source": []
  }
 ],
 "metadata": {
  "kernelspec": {
   "display_name": "Python 3 (ipykernel)",
   "language": "python",
   "name": "python3"
  },
  "language_info": {
   "codemirror_mode": {
    "name": "ipython",
    "version": 3
   },
   "file_extension": ".py",
   "mimetype": "text/x-python",
   "name": "python",
   "nbconvert_exporter": "python",
   "pygments_lexer": "ipython3",
   "version": "3.11.1"
  }
 },
 "nbformat": 4,
 "nbformat_minor": 4
}
