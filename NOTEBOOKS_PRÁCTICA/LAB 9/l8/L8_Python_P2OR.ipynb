{
 "cells": [
  {
   "cell_type": "markdown",
   "id": "65b4baec",
   "metadata": {
    "id": "65b4baec"
   },
   "source": [
    "# 1ING09 - Digital Signal Processing\n",
    "# Laboratory 8: Random processes - Part II"
   ]
  },
  {
   "cell_type": "code",
   "execution_count": null,
   "id": "74845fc9",
   "metadata": {
    "id": "74845fc9"
   },
   "outputs": [],
   "source": [
    "import numpy as np\n",
    "import scipy as sp\n",
    "import matplotlib.pyplot as plt"
   ]
  },
  {
   "cell_type": "markdown",
   "id": "73000bb6",
   "metadata": {
    "id": "73000bb6"
   },
   "source": [
    "## Question 1\n",
    "You are supervising the production of a new hemodialysis machine. The company will manufacture 50 machines, but each finished product has a probability of being defective of 2.7%."
   ]
  },
  {
   "cell_type": "markdown",
   "id": "65b8e6fb",
   "metadata": {
    "id": "65b8e6fb"
   },
   "source": [
    "a) Plot the probability mass function and the cumulative distribution function for the number of defective products. (1 pt)"
   ]
  },
  {
   "cell_type": "code",
   "execution_count": null,
   "id": "04edc89b",
   "metadata": {
    "id": "04edc89b"
   },
   "outputs": [],
   "source": [
    "# Insert code\n",
    "\n",
    "plt.figure(figsize=(10, 3))\n",
    "# plot the PMF here\n",
    "plt.show()\n",
    "\n",
    "plt.figure(figsize=(10, 3))\n",
    "# plot the CDF here\n",
    "plt.show()"
   ]
  },
  {
   "cell_type": "markdown",
   "id": "f3ceafbc",
   "metadata": {
    "id": "f3ceafbc"
   },
   "source": [
    "b) What is the probability that you end up with 10 defective machines? (0.5 pt)"
   ]
  },
  {
   "cell_type": "code",
   "execution_count": 3,
   "id": "810812e6",
   "metadata": {
    "id": "810812e6",
    "tags": []
   },
   "outputs": [
    {
     "name": "stdout",
     "output_type": "stream",
     "text": [
      "0.0\n"
     ]
    }
   ],
   "source": [
    "from scipy.special import comb\n",
    "k = 50\n",
    "N = 10\n",
    "prob = comb(N, k) * 0.07**k * (1-0.5)**(N-k)\n",
    "print(prob)"
   ]
  },
  {
   "cell_type": "markdown",
   "id": "7nI8yC3uMyJq",
   "metadata": {
    "id": "7nI8yC3uMyJq"
   },
   "source": [
    "c) What is the expected value of the number of defective products? (1 pt)"
   ]
  },
  {
   "cell_type": "code",
   "execution_count": null,
   "id": "DKf090MdM786",
   "metadata": {
    "id": "DKf090MdM786"
   },
   "outputs": [],
   "source": []
  },
  {
   "cell_type": "markdown",
   "id": "9ea3a056",
   "metadata": {
    "id": "9ea3a056"
   },
   "source": [
    "d) The probability that there are no defective machines needs to be at least 80%. Therefore, the probability of a product being defective should change. What would be its new value? (1.5 pt)"
   ]
  },
  {
   "cell_type": "code",
   "execution_count": null,
   "id": "e48080f4",
   "metadata": {
    "id": "e48080f4"
   },
   "outputs": [],
   "source": []
  },
  {
   "cell_type": "markdown",
   "id": "5fbddd1f",
   "metadata": {
    "id": "5fbddd1f"
   },
   "source": [
    "e) Using your result from (d), plot the new probability mass function for the number of defective products. (0.5 pt)"
   ]
  },
  {
   "cell_type": "code",
   "execution_count": null,
   "id": "8fa20916",
   "metadata": {
    "id": "8fa20916"
   },
   "outputs": [],
   "source": [
    "# Insert code\n",
    "\n",
    "plt.figure(figsize=(10, 3))\n",
    "# plot the PMF here\n",
    "plt.show()"
   ]
  },
  {
   "cell_type": "markdown",
   "id": "fcb18174",
   "metadata": {
    "id": "fcb18174"
   },
   "source": [
    "f) Will you need the same probability from (d) if you produce a thousand machines? Why? Compare the expected value of defective machines in both cases (1.5 pt)"
   ]
  },
  {
   "cell_type": "code",
   "execution_count": null,
   "id": "087f7aad",
   "metadata": {
    "id": "087f7aad"
   },
   "outputs": [],
   "source": []
  },
  {
   "cell_type": "markdown",
   "id": "7uBEKW31NsaI",
   "metadata": {
    "id": "7uBEKW31NsaI"
   },
   "source": [
    "g) Simulate the process for 50 machines and a probability of failure of 2.7% using the function `numpy.random.choice`. Do you obtain the same result each time? (1 pt)\n",
    "\n",
    "Hint: use an array of `[1,0]` to indicate if a machine is defective or not, and a weight array with the desired probabilities."
   ]
  },
  {
   "cell_type": "code",
   "execution_count": null,
   "id": "FUptPfUeNr09",
   "metadata": {
    "id": "FUptPfUeNr09"
   },
   "outputs": [],
   "source": []
  },
  {
   "cell_type": "markdown",
   "id": "UdCUnx8qRLNE",
   "metadata": {
    "id": "UdCUnx8qRLNE"
   },
   "source": [
    "h) Repeat the simulation 10000 times and save the results in an array. Obtain a simulated probability mass function, plot it and compare it with your result from a). (3 pt)"
   ]
  },
  {
   "cell_type": "code",
   "execution_count": null,
   "id": "uqiPrqGjRKdf",
   "metadata": {
    "id": "uqiPrqGjRKdf"
   },
   "outputs": [],
   "source": [
    "# Insert code\n",
    "\n",
    "plt.figure(figsize=(10, 3))\n",
    "# plot the PMF here\n",
    "plt.show()"
   ]
  },
  {
   "cell_type": "markdown",
   "id": "2ec33c3d",
   "metadata": {
    "id": "2ec33c3d"
   },
   "source": [
    "## Question 2\n",
    "You have weight data of 1000 pacients from a hospital. It is saved in kg in an array called `patient_data.mat`. You have a suspicion that the weights follow a gaussian distribution."
   ]
  },
  {
   "cell_type": "markdown",
   "id": "a75b6557",
   "metadata": {
    "id": "a75b6557"
   },
   "source": [
    "a) Load the data and get a histogram using a bin size of 3 kg. Consider the maximum and minimum weight for the limits. Using the histogram, plot an approximated Probability Mass Function for the probabilities of each bin. Does the shape resemble a Gaussian distribution? (2 pt)"
   ]
  },
  {
   "cell_type": "code",
   "execution_count": null,
   "id": "jbP04UYJwZtD",
   "metadata": {
    "id": "jbP04UYJwZtD"
   },
   "outputs": [],
   "source": [
    "# Insert code\n",
    "\n",
    "plt.figure(figsize=(10, 3))\n",
    "# plot the PMF here\n",
    "plt.show()"
   ]
  },
  {
   "cell_type": "markdown",
   "id": "6dff2631",
   "metadata": {
    "id": "6dff2631"
   },
   "source": [
    "b) Calculate the mean and standard deviation of the data. Plot a Probability Density Function and the Cumulative Density Function using these values. Does the PDF resemble your results from (a)? (1 pt)"
   ]
  },
  {
   "cell_type": "code",
   "execution_count": null,
   "id": "1d9214b6",
   "metadata": {
    "id": "1d9214b6"
   },
   "outputs": [],
   "source": [
    "# Insert code\n",
    "\n",
    "plt.figure(figsize=(10, 3))\n",
    "# plot the PDF here\n",
    "plt.show()\n",
    "\n",
    "plt.figure(figsize=(10, 3))\n",
    "# plot the CDF here\n",
    "plt.show()"
   ]
  },
  {
   "cell_type": "markdown",
   "id": "6MIy2s4gesIV",
   "metadata": {
    "id": "6MIy2s4gesIV"
   },
   "source": [
    "c) Just by looking at the plots, what is the approximate probability that a patient weights between 70 kg and 95 kg? Justify your answer (1 pt)"
   ]
  },
  {
   "cell_type": "code",
   "execution_count": null,
   "id": "DOcGoz170cR9",
   "metadata": {
    "id": "DOcGoz170cR9"
   },
   "outputs": [],
   "source": []
  },
  {
   "cell_type": "markdown",
   "id": "k0vQBNXAeKDT",
   "metadata": {
    "id": "k0vQBNXAeKDT"
   },
   "source": [
    "d) If you were to choose a range that includes the weights of 99% of patients, what would it be? Justify your answer (1 pt)"
   ]
  },
  {
   "cell_type": "code",
   "execution_count": null,
   "id": "CzUHWar3h5D-",
   "metadata": {
    "id": "CzUHWar3h5D-"
   },
   "outputs": [],
   "source": []
  }
 ],
 "metadata": {
  "colab": {
   "provenance": []
  },
  "kernelspec": {
   "display_name": "Python 3 (ipykernel)",
   "language": "python",
   "name": "python3"
  },
  "language_info": {
   "codemirror_mode": {
    "name": "ipython",
    "version": 3
   },
   "file_extension": ".py",
   "mimetype": "text/x-python",
   "name": "python",
   "nbconvert_exporter": "python",
   "pygments_lexer": "ipython3",
   "version": "3.11.2"
  }
 },
 "nbformat": 4,
 "nbformat_minor": 5
}
